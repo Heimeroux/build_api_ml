{
 "cells": [
  {
   "cell_type": "markdown",
   "id": "d27b18f3-4bb8-4826-b0e0-4c3ebed96665",
   "metadata": {},
   "source": [
    "## Notebook pour tester l'api pour le user et l'administrateur"
   ]
  },
  {
   "cell_type": "code",
   "execution_count": 1,
   "id": "190c9e4f-a7ba-4b63-ba4f-81816b1f7942",
   "metadata": {},
   "outputs": [],
   "source": [
    "import requests\n",
    "from pymongo import MongoClient"
   ]
  },
  {
   "cell_type": "markdown",
   "id": "40877d54-59f6-4489-9e00-ab923f082444",
   "metadata": {},
   "source": [
    "### Récupération des endpoints"
   ]
  },
  {
   "cell_type": "code",
   "execution_count": 2,
   "id": "b4a70bf3-814b-4087-a483-0f32b1b6231c",
   "metadata": {},
   "outputs": [],
   "source": [
    "user_url = \"http://localhost:8001\"\n",
    "admin_url = \"http://localhost:8000\"\n",
    "\n",
    "user_get_data_url = f'{user_url}/get'\n",
    "\n",
    "admin_get_data_url = f'{admin_url}/get'\n",
    "admin_insert_data_url = f'{admin_url}/insert'\n",
    "admin_update_data_url = f'{admin_url}/update'"
   ]
  },
  {
   "cell_type": "markdown",
   "id": "910ec3e1-c127-4a0f-b747-78378b7beccf",
   "metadata": {},
   "source": [
    "### On regarde la valeur pour le user avec l'id 1"
   ]
  },
  {
   "cell_type": "markdown",
   "id": "ea373f1b-9aec-4950-b2e9-0a36b13786dc",
   "metadata": {},
   "source": [
    "#### Avec les droits d'admin"
   ]
  },
  {
   "cell_type": "code",
   "execution_count": 3,
   "id": "dc8b82b6-fbbb-4fa2-863d-69042985ad3d",
   "metadata": {},
   "outputs": [
    {
     "name": "stdout",
     "output_type": "stream",
     "text": [
      "{'res': [{'id': 1, 'value': 'valeur 1'}]}\n"
     ]
    }
   ],
   "source": [
    "admin_get_url = f'{admin_get_data_url}/1'\n",
    "recommandations = requests.get(admin_get_url)\n",
    "print(recommandations.json())"
   ]
  },
  {
   "cell_type": "markdown",
   "id": "3b3621c8-9da0-4466-a734-3c327b85c1d2",
   "metadata": {},
   "source": [
    "#### Avec les droit de user"
   ]
  },
  {
   "cell_type": "code",
   "execution_count": 4,
   "id": "b6120144-29f4-4be0-b87a-0769db4475cc",
   "metadata": {},
   "outputs": [
    {
     "name": "stdout",
     "output_type": "stream",
     "text": [
      "{'res': [{'id': 1, 'value': 'valeur 1'}]}\n"
     ]
    }
   ],
   "source": [
    "user_get_url = f'{user_get_data_url}/1'\n",
    "recommandations = requests.get(user_get_url)\n",
    "print(recommandations.json())"
   ]
  },
  {
   "cell_type": "markdown",
   "id": "9efb5d61-8c66-4cc7-9404-78a5ca67c1f1",
   "metadata": {},
   "source": [
    "### On regarde la valeur pour le user 20"
   ]
  },
  {
   "cell_type": "code",
   "execution_count": 5,
   "id": "df7308b0-7723-43ae-a462-6eecee71d4d1",
   "metadata": {},
   "outputs": [
    {
     "name": "stdout",
     "output_type": "stream",
     "text": [
      "{'res': []}\n"
     ]
    }
   ],
   "source": [
    "admin_get_url = f'{admin_get_data_url}/20'\n",
    "recommandations = requests.get(admin_get_url)\n",
    "print(recommandations.json())"
   ]
  },
  {
   "cell_type": "markdown",
   "id": "5991404d-d48c-436a-8771-1b6da2409856",
   "metadata": {},
   "source": [
    "### On l'ajoute dans la base mongo avec les droits d'admin"
   ]
  },
  {
   "cell_type": "code",
   "execution_count": 6,
   "id": "3b6d4eca-cce2-40cc-9ec3-c2bce235c440",
   "metadata": {},
   "outputs": [
    {
     "name": "stdout",
     "output_type": "stream",
     "text": [
      "Insertion réussie\n"
     ]
    }
   ],
   "source": [
    "admin_insert_url = f'{admin_insert_data_url}/20/value_20'\n",
    "recommandations = requests.get(admin_insert_url)\n",
    "print(recommandations.json())"
   ]
  },
  {
   "cell_type": "markdown",
   "id": "469be457-5f05-48bc-bf70-09f1d06658f3",
   "metadata": {},
   "source": [
    "### On vérifie l'insertion"
   ]
  },
  {
   "cell_type": "code",
   "execution_count": 7,
   "id": "241e99f9-3321-4fd0-b7b0-36037a0b891f",
   "metadata": {},
   "outputs": [
    {
     "name": "stdout",
     "output_type": "stream",
     "text": [
      "{'res': [{'id': 20, 'value': 'value_20'}]}\n"
     ]
    }
   ],
   "source": [
    "admin_get_url = f'{admin_get_data_url}/20'\n",
    "recommandations = requests.get(admin_get_url)\n",
    "print(recommandations.json())"
   ]
  },
  {
   "cell_type": "markdown",
   "id": "bf9471bb-6990-49a6-ace1-f86b07d18877",
   "metadata": {},
   "source": [
    "### On modifie l'insertion"
   ]
  },
  {
   "cell_type": "code",
   "execution_count": 8,
   "id": "95e144ac-18cf-46f2-9e17-8bd85fcb1955",
   "metadata": {},
   "outputs": [
    {
     "name": "stdout",
     "output_type": "stream",
     "text": [
      "Update réussie\n"
     ]
    }
   ],
   "source": [
    "admin_update_url = f'{admin_update_data_url}/20/value_30'\n",
    "recommandations = requests.get(admin_update_url)\n",
    "print(recommandations.json())"
   ]
  },
  {
   "cell_type": "markdown",
   "id": "2b24fed0-5b1f-4d92-a379-0aac6485f0c1",
   "metadata": {},
   "source": [
    "### On vérifie la modification"
   ]
  },
  {
   "cell_type": "code",
   "execution_count": 10,
   "id": "2f285993-d1d3-4f6e-9f2a-91b13574fda0",
   "metadata": {},
   "outputs": [
    {
     "name": "stdout",
     "output_type": "stream",
     "text": [
      "{'res': [{'id': 20, 'value': 'value_30'}]}\n"
     ]
    }
   ],
   "source": [
    "admin_get_url = f'{admin_get_data_url}/20'\n",
    "recommandations = requests.get(admin_get_url)\n",
    "print(recommandations.json())"
   ]
  }
 ],
 "metadata": {
  "kernelspec": {
   "display_name": "Python 3 (ipykernel)",
   "language": "python",
   "name": "python3"
  },
  "language_info": {
   "codemirror_mode": {
    "name": "ipython",
    "version": 3
   },
   "file_extension": ".py",
   "mimetype": "text/x-python",
   "name": "python",
   "nbconvert_exporter": "python",
   "pygments_lexer": "ipython3",
   "version": "3.9.19"
  }
 },
 "nbformat": 4,
 "nbformat_minor": 5
}
